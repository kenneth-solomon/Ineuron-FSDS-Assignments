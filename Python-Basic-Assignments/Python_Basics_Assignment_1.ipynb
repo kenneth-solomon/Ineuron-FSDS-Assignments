{
 "cells": [
  {
   "cell_type": "markdown",
   "id": "dcc374e8",
   "metadata": {},
   "source": [
    "<font color = red><h3>Question 1</h3><font>\n",
    "<p><strong>In the below elements which of them are values or an expression? eg:- values can be\n",
    "integer or string and expressions will be mathematical operators.</strong></p>\n",
    "<p><strong>*</strong></p>\n",
    "<p><strong>'hello'</strong></p>\n",
    "<p><strong>-87.8</strong></p>\n",
    "<p><strong>-</strong></p>\n",
    "<p><strong>/</strong></p>\n",
    "<p><strong>+</strong></p>\n",
    "<p><strong>6</strong></p>"
   ]
  },
  {
   "cell_type": "markdown",
   "id": "073b6760",
   "metadata": {},
   "source": [
    "<font color = \"blue\"><h4>Answer 1</h4></font>\n",
    "<p><strong>In the below elements which of them are values or an expression? eg:- values can be\n",
    "integer or string and expressions will be mathematical operators.</strong></p>\n",
    "<p><strong><font color = \"blue\">*</font> is an expression</strong></p>\n",
    "<p><strong><font color = \"blue\">'hello'</font> is a value</strong></p>\n",
    "<p><strong><font color = \"blue\">-87.8</font> is a value</strong></p>\n",
    "<p><strong><font color = \"blue\">-</font> is an expression</strong></p>\n",
    "<p><strong><font color = \"blue\">/</font> is an expression</strong></p>\n",
    "<p><strong><font color = \"blue\">+</font> is an expression</strong></p>\n",
    "<p><strong><font color = \"blue\">6</font> is a value</strong></p>"
   ]
  },
  {
   "cell_type": "markdown",
   "id": "305f577f",
   "metadata": {},
   "source": [
    "<font color = \"red\"><h3>Question 2</h3></font>\n",
    "<p>What is the difference between string and variable?</p>"
   ]
  },
  {
   "cell_type": "markdown",
   "id": "c7201cde",
   "metadata": {},
   "source": [
    "<font color = \"blue\"><h4>Answer 2</h4></font>"
   ]
  },
  {
   "cell_type": "code",
   "execution_count": 7,
   "id": "98cef3f2",
   "metadata": {},
   "outputs": [
    {
     "name": "stdout",
     "output_type": "stream",
     "text": [
      "it is a string\n"
     ]
    }
   ],
   "source": [
    "s = \"it is a string\" \n",
    "print(s)"
   ]
  },
  {
   "cell_type": "markdown",
   "id": "2af6e03b",
   "metadata": {},
   "source": [
    "<p><strong>In the code above <font color=\"blue\">s</font> is a variable and <font color=\"blue\">\"it is a string\"</font>\n",
    " is a string. A varaible can be anything starting with any letter or underscore symbol but it should not with a\n",
    " number or any other special character and it should not be any reserved keyword as well. On the other hand\n",
    " a string is a sequence of character delimited by single or double inverted commas, Strings are immutable.<strong></p>"
   ]
  },
  {
   "cell_type": "markdown",
   "id": "43977c82",
   "metadata": {},
   "source": [
    "<font color = \"red\"><h3>Question 3</h3></font>\n",
    "<p><strong>Describe three different data types.</strong></p>"
   ]
  },
  {
   "cell_type": "markdown",
   "id": "cbcbcb8f",
   "metadata": {},
   "source": [
    "<font color = \"blue\"><h4>Answer 3</h4></font>\n",
    "<font color=\"blue\"><h6>1)int data type</h6></font>\n",
    "<p><strong><font color=\"blue\">int</font> is used to stored whole numbers, It can store a whole number which can range from\n",
    "     -2147483648 - 2147483647 </strong></p>\n",
    "     \n",
    "<font color=\"blue\"><h6>2)string data type</h6></font>\n",
    "<p><strong><font color=\"blue\">string</font> in python is represented by the Keyword <font color=\"blue\">str</font>\n",
    "     in python. strings are sequences of characters delimited by single or double inverted commas<strong></p>\n",
    "    \n",
    "<font color=\"blue\"><h6>3)float data type</h6></font>\n",
    "<p><strong><font color=\"blue\">float</font> data type represents floating point number or numbers with a decimal \n",
    "     point</strong></p> "
   ]
  },
  {
   "cell_type": "code",
   "execution_count": 9,
   "id": "e993820a",
   "metadata": {},
   "outputs": [
    {
     "name": "stdout",
     "output_type": "stream",
     "text": [
      "<class 'int'>\n",
      "<class 'str'>\n",
      "<class 'float'>\n"
     ]
    }
   ],
   "source": [
    "#Example of int data types\n",
    "\n",
    "#Example of int data ype\n",
    "a = 45\n",
    "print(type(a))\n",
    "\n",
    "#Example of str data type\n",
    "b = \"hello world\"\n",
    "print(type(b))\n",
    "\n",
    "#Example of float data type\n",
    "c = 60.68\n",
    "print(type(c))"
   ]
  },
  {
   "cell_type": "markdown",
   "id": "6be98662",
   "metadata": {},
   "source": [
    "<font color = \"red\"><h3>Question 4</h3></font>\n",
    "<p><strong>What is an expression made up of? What do all expressions do?</strong></p>"
   ]
  },
  {
   "cell_type": "markdown",
   "id": "7f98bd95",
   "metadata": {},
   "source": [
    "<font color = \"blue\"><h4>Answer 4</h4></font>\n",
    "<p><strong>An <font color=\"blue\">expression</font> is series or combination of <font color=\"blue\">operators</font> or \n",
    "     <font color=\"blue\">operands</font> which perform a particular task to get a value or result. \n",
    "    <font color=\"blue\">Operators</font> indicate what operation needs to be performed or what action needs to be take on the \n",
    "    other hand <font color=\"blue\">operand</font> is the item on which the operation is performed.  <font color=\"blue\">operand</font> \n",
    "     can either be a variable,constant,elemenat of a list,substring and so forth.</strong></p>"
   ]
  },
  {
   "cell_type": "code",
   "execution_count": 10,
   "id": "d15e8859",
   "metadata": {},
   "outputs": [
    {
     "name": "stdout",
     "output_type": "stream",
     "text": [
      "120\n"
     ]
    }
   ],
   "source": [
    "#Example of an expression\n",
    "\n",
    "a = 150\n",
    "b = 10\n",
    "c = 3\n",
    "\n",
    "d = a-b*c\n",
    "print(d)\n",
    "\n",
    "#a,b,c are operands\n",
    "# -,* are operators\n",
    "#d = a-b*c is an expression"
   ]
  },
  {
   "cell_type": "markdown",
   "id": "9dae9b3c",
   "metadata": {},
   "source": [
    "<font color = \"red\"><h3>Question 5</h3></font>\n",
    "<p><strong>This assignment statements, like spam = 10. What is the difference between an\n",
    "expression and a statement?</strong></p>"
   ]
  },
  {
   "cell_type": "markdown",
   "id": "0999d065",
   "metadata": {},
   "source": [
    "<font color = \"blue\"><h4>Answer 5</h4></font>\n",
    "<p><strong> A <font color = \"blue\">statement</font> in python in used to create as well as assign a value to a variable in pyhton, \n",
    "    while An <font color = \"blue\">expression</font> is series or combination of operators or operands which \n",
    "    perform a particular task to get a value or result.</strong></p>"
   ]
  },
  {
   "cell_type": "code",
   "execution_count": 13,
   "id": "afcaa309",
   "metadata": {},
   "outputs": [
    {
     "name": "stdout",
     "output_type": "stream",
     "text": [
      "15\n"
     ]
    }
   ],
   "source": [
    "#Example of a statement\n",
    "a,b = 5,10\n",
    "\n",
    "#Example of an expression\n",
    "d = a+b\n",
    "\n",
    "print(d)"
   ]
  },
  {
   "cell_type": "markdown",
   "id": "fa003a16",
   "metadata": {},
   "source": [
    "<font color = \"red\"><h3>Question 6</h3></font>\n",
    "<p><strong>After running the following code, what does the variable bacon contain?</strong></p>\n",
    "<p><strong>bacon = 22</strong></p>\n",
    "<p><strong>bacon + 1</strong></p>"
   ]
  },
  {
   "cell_type": "markdown",
   "id": "5f947f2c",
   "metadata": {},
   "source": [
    "<font color = \"blue\"><h4>Answer 6</h4></font>\n",
    "<p><strong>The value of the variable <font color = \"blue\">bacon</font> will still remain 22.</p></strong>"
   ]
  },
  {
   "cell_type": "code",
   "execution_count": 19,
   "id": "4506801a",
   "metadata": {},
   "outputs": [
    {
     "name": "stdout",
     "output_type": "stream",
     "text": [
      "22\n"
     ]
    }
   ],
   "source": [
    "#This small program shows the value of variable bacon is still 22.\n",
    "bacon = 22\n",
    "\n",
    "bacon + 1\n",
    "\n",
    "print(bacon)"
   ]
  },
  {
   "cell_type": "markdown",
   "id": "ee357713",
   "metadata": {},
   "source": [
    "<font color = \"red\"><h3>Question 7</h3></font>\n",
    "<p><strong>What should the values of the following two terms be?</strong></p>\n",
    "<p><strong>'spam'+'spamspam'</strong></p>\n",
    "<p><strong>'spam' * 3</strong></p>"
   ]
  },
  {
   "cell_type": "markdown",
   "id": "459ea0de",
   "metadata": {},
   "source": [
    "<font color = \"blue\"><h4>Answer 7</h4></font>\n",
    "<p><strong>If we execute the two statements the output will be <font color = \"blue\">spamspamspam<font><strong></p>"
   ]
  },
  {
   "cell_type": "code",
   "execution_count": 24,
   "id": "77d73a1b",
   "metadata": {},
   "outputs": [
    {
     "name": "stdout",
     "output_type": "stream",
     "text": [
      "spamspamspam\n",
      "spamspamspam\n"
     ]
    }
   ],
   "source": [
    "#Both the statements mentioned above will get the same result if executed\n",
    "print('spam'+'spamspam')\n",
    "print('spam' * 3)"
   ]
  },
  {
   "cell_type": "markdown",
   "id": "81eed9d5",
   "metadata": {},
   "source": [
    "<font color = \"red\"><h3>Question 8</h3></font>\n",
    "<p><strong>Why is eggs a valid variable name while 100 is invalid?</strong></p>"
   ]
  },
  {
   "cell_type": "markdown",
   "id": "eacda246",
   "metadata": {},
   "source": [
    "<font color = \"blue\"><h4>Answer 8</h4></font>\n",
    "<p><strong>A varaible can be anything sarting with any letter or underscore symbol but it should not with a \n",
    "    number or any other special character and it should not be any reserved keyword as well. For this reason \n",
    "    <font color = \"blue\">eggs</font> is a valid variable name while <font color = \"blue\">100</font> is an \n",
    "    invalid variable name.</strong></p>"
   ]
  },
  {
   "cell_type": "code",
   "execution_count": 26,
   "id": "45612570",
   "metadata": {},
   "outputs": [
    {
     "name": "stdout",
     "output_type": "stream",
     "text": [
      "115\n"
     ]
    }
   ],
   "source": [
    "#This example shows eggs is valid variable name\n",
    "eggs = 115\n",
    "print(eggs)"
   ]
  },
  {
   "cell_type": "code",
   "execution_count": 27,
   "id": "e130781c",
   "metadata": {},
   "outputs": [
    {
     "ename": "SyntaxError",
     "evalue": "cannot assign to literal here. Maybe you meant '==' instead of '='? (3914240590.py, line 2)",
     "output_type": "error",
     "traceback": [
      "\u001b[1;36m  Cell \u001b[1;32mIn[27], line 2\u001b[1;36m\u001b[0m\n\u001b[1;33m    100 = 115\u001b[0m\n\u001b[1;37m    ^\u001b[0m\n\u001b[1;31mSyntaxError\u001b[0m\u001b[1;31m:\u001b[0m cannot assign to literal here. Maybe you meant '==' instead of '='?\n"
     ]
    }
   ],
   "source": [
    "#This example shows 100 is an invalid variable name\n",
    "100 = 115\n",
    "print(100)"
   ]
  },
  {
   "cell_type": "markdown",
   "id": "dd37d4cb",
   "metadata": {},
   "source": [
    "<font color = \"red\"><h3>Question 9</h3></font>\n",
    "<p><strong>What three functions can be used to get the integer, floating-point number, or string\n",
    "version of a value?</strong></p>"
   ]
  },
  {
   "cell_type": "markdown",
   "id": "9304518c",
   "metadata": {},
   "source": [
    "<font color = \"blue\"><h4>Answer 9</h4></font>\n",
    "<p><strong><font color = \"blue\">int()</font>, <font color = \"blue\">float()</font> and <font color = \"blue\">str() </font>\n",
    "   can be used to get the integer, floating-point number, or string version of a value respectively.</strong></p>"
   ]
  },
  {
   "cell_type": "markdown",
   "id": "c0adc941",
   "metadata": {},
   "source": [
    "<font color = \"red\"><h3>Question 10</h3></font>\n",
    "<p><strong>Why does this expression cause an error? How can you fix it?</strong></p>\n",
    "<p><strong>'I have eaten' + 99 + 'burritos.'</strong></p>"
   ]
  },
  {
   "cell_type": "markdown",
   "id": "ad64cadf",
   "metadata": {},
   "source": [
    "<font color = \"blue\"><h4>Answer 10</h4></font>\n",
    "<p><strong><font color = \"blue\">'I have eaten' + 99 + 'burritos.'</font> will throw an error when executed because\n",
    "   <font color = \"blue\">99</font> is an integer not a string. If there was a string instead of <font color = \"blue\">99</font> than the statement would have been executed \n",
    "   without an error. If we place <font color = \"blue\">99</font> within single or double inverted commas the statement will execute without \n",
    "   an error</strong></p>"
   ]
  },
  {
   "cell_type": "code",
   "execution_count": 32,
   "id": "5b848275",
   "metadata": {},
   "outputs": [
    {
     "data": {
      "text/plain": [
       "'I have eaten 99 burritos.'"
      ]
     },
     "execution_count": 32,
     "metadata": {},
     "output_type": "execute_result"
    }
   ],
   "source": [
    "#The below statement shows code is executed without an error when 99 is place with single inverted commas \n",
    "#or in other words make 99 a string\n",
    "\n",
    "'I have eaten ' + '99' + ' burritos.' "
   ]
  }
 ],
 "metadata": {
  "kernelspec": {
   "display_name": "Python 3 (ipykernel)",
   "language": "python",
   "name": "python3"
  },
  "language_info": {
   "codemirror_mode": {
    "name": "ipython",
    "version": 3
   },
   "file_extension": ".py",
   "mimetype": "text/x-python",
   "name": "python",
   "nbconvert_exporter": "python",
   "pygments_lexer": "ipython3",
   "version": "3.10.9"
  }
 },
 "nbformat": 4,
 "nbformat_minor": 5
}
